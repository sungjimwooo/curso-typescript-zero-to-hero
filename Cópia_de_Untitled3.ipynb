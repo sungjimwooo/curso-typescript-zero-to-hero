{
  "nbformat": 4,
  "nbformat_minor": 0,
  "metadata": {
    "colab": {
      "provenance": [],
      "authorship_tag": "ABX9TyNNdHsFTwTJXy9280IO+uoF",
      "include_colab_link": true
    },
    "kernelspec": {
      "name": "python3",
      "display_name": "Python 3"
    },
    "language_info": {
      "name": "python"
    }
  },
  "cells": [
    {
      "cell_type": "markdown",
      "metadata": {
        "id": "view-in-github",
        "colab_type": "text"
      },
      "source": [
        "<a href=\"https://colab.research.google.com/github/sungjimwooo/curso-typescript-zero-to-hero/blob/main/C%C3%B3pia_de_Untitled3.ipynb\" target=\"_parent\"><img src=\"https://colab.research.google.com/assets/colab-badge.svg\" alt=\"Open In Colab\"/></a>"
      ]
    },
    {
      "cell_type": "code",
      "source": [
        "peso = float(input('digite o seu peso:'))\n",
        "altura = float(input('digite a sua altura: '))\n",
        "imc= peso /(altura*2 )\n",
        "\n",
        "if (imc < 18.5):\n",
        " print ('abaixo do peso ')\n",
        "elif (imc >= 18.5 and imc <25):\n",
        "  print ('sauldavel')\n",
        "elif (imc >= 25 and imc <30):\n",
        "  print ('peso em exesso')\n",
        "elif (imc >= 30 and imc <35):\n",
        "  print ('obsidade 1')\n",
        "elif (imc >= 35 and imc <40):\n",
        "  print ('obsidade 2')\n",
        "elif (imc >= 40):\n",
        "  print ('obsidade 3')\n",
        "\n"
      ],
      "metadata": {
        "colab": {
          "base_uri": "https://localhost:8080/"
        },
        "id": "p6qCzFhQFf_q",
        "outputId": "ecc4fea7-c23d-4130-aba9-fe10fe69a687"
      },
      "execution_count": null,
      "outputs": [
        {
          "output_type": "stream",
          "name": "stdout",
          "text": [
            "digite o seu peso:98\n",
            "digite a sua altura: 1.82\n",
            "peso em exesso\n"
          ]
        }
      ]
    },
    {
      "cell_type": "code",
      "source": [
        "origem = float(input('qual o codigo do produto:'))\n",
        "\n",
        "if (origem == 1):\n",
        " print('sul')\n",
        "elif (origem == 2):\n",
        " print('norte')\n",
        "elif (origem == 3):\n",
        "  print('leste')\n",
        "elif (origem == 4):\n",
        "  print('oeste')\n",
        "elif (origem == 5 and origem == 6):\n",
        "  print('nordeste')\n",
        "elif (origem == 7 and origem == 8 and origem == 9):\n",
        "  print('sudoeste')\n",
        "elif(origem == 10):\n",
        "  print('centro-oeste')\n",
        "elif (origem == 11):\n",
        "  print('noroeste')\n",
        "\n",
        "\n",
        "\n"
      ],
      "metadata": {
        "colab": {
          "base_uri": "https://localhost:8080/"
        },
        "id": "-VycBJVDRZM8",
        "outputId": "36705dfd-40da-4221-9507-306a91060c91"
      },
      "execution_count": null,
      "outputs": [
        {
          "output_type": "stream",
          "name": "stdout",
          "text": [
            "qual o codigo do produto:11\n",
            "noroeste\n"
          ]
        }
      ]
    },
    {
      "cell_type": "code",
      "source": [
        "numero = int(input('digite um numero: '))\n",
        "if(numero >= 0):\n",
        "  print('positivo')\n",
        "elif(numero <0):\n",
        "  print('negativo')"
      ],
      "metadata": {
        "colab": {
          "base_uri": "https://localhost:8080/"
        },
        "id": "Or-oQ9ujcKmb",
        "outputId": "753f60eb-9d33-4e99-d36f-c5eee402c097"
      },
      "execution_count": null,
      "outputs": [
        {
          "output_type": "stream",
          "name": "stdout",
          "text": [
            "digite um numero: 5\n",
            "positivo\n"
          ]
        }
      ]
    },
    {
      "cell_type": "code",
      "source": [
        "numero = int(input('digite um numero: '))\n",
        "if (numero == 0):\n",
        "  print('zero')\n",
        "elif (numero <0):\n",
        "  print('negativo')\n",
        "elif (numero >= 0):\n",
        "  print('positivo')\n"
      ],
      "metadata": {
        "colab": {
          "base_uri": "https://localhost:8080/"
        },
        "id": "hnSm5bo58ATb",
        "outputId": "1c2ca33f-be7c-4c38-c81e-7fce8c14f15d"
      },
      "execution_count": 15,
      "outputs": [
        {
          "output_type": "stream",
          "name": "stdout",
          "text": [
            "digite um numero: -5\n",
            "negativo\n"
          ]
        }
      ]
    },
    {
      "cell_type": "code",
      "source": [
        "numero1 = int(input('digite um numero: '))\n",
        "numero2 = int(input('digite um numero: '))\n",
        "if ( numero1 >= numero2):\n",
        "  print(f'o numero maior e:{numero1}')\n",
        "elif (numero1 <= numero2):\n",
        "  print(f'o numero maior e: {numero2}')\n",
        "\n"
      ],
      "metadata": {
        "colab": {
          "base_uri": "https://localhost:8080/"
        },
        "id": "P9A9RU5A-tN-",
        "outputId": "c1351ea3-4f28-44fb-b919-db976e7e5d47"
      },
      "execution_count": 26,
      "outputs": [
        {
          "output_type": "stream",
          "name": "stdout",
          "text": [
            "digite um numero: 2\n",
            "digite um numero: 76\n",
            "o numero maior e: 76\n"
          ]
        }
      ]
    },
    {
      "cell_type": "code",
      "source": [
        "cord1 = int(input('digite uma cordenada: '))\n",
        "cord2 = int(input('digite uma cordenada: '))\n",
        "cord3 = int(input('digite uma cordenada: '))\n",
        "if(cord1 == cord2 and cord3):\n",
        "  print('Equilátero: todos os lados iguais')\n",
        "elif (cord1 <= cord2 and cord3):\n",
        "  print(' Isósceles: dois lados iguais')\n",
        "elif (cord1 >= cord2 and cord3):\n",
        "  print('Escaleno: todos os lados diferentes')"
      ],
      "metadata": {
        "colab": {
          "base_uri": "https://localhost:8080/"
        },
        "id": "QzqSttE3BQ1K",
        "outputId": "195fec95-c384-4d12-80b7-5286b83cce3e"
      },
      "execution_count": 28,
      "outputs": [
        {
          "output_type": "stream",
          "name": "stdout",
          "text": [
            "digite uma cordenada: 12\n",
            "digite uma cordenada: 1\n",
            "digite uma cordenada: 3\n",
            "Escaleno: todos os lados diferentes\n"
          ]
        }
      ]
    },
    {
      "cell_type": "code",
      "source": [
        "maca = int(input('digite o numero de maças:'))\n",
        "if maca < 12:\n",
        "   preco_unitario = 0.50\n",
        "else:\n",
        " preco_unitario = 0.40\n",
        "\n",
        "valor_total = maca * preco_unitario\n",
        "print(f'as maças deu: {valor_total}')\n",
        "\n"
      ],
      "metadata": {
        "colab": {
          "base_uri": "https://localhost:8080/"
        },
        "id": "AVTnrH--CxjL",
        "outputId": "028f0796-868c-4fc1-c32a-589ee624dba7"
      },
      "execution_count": 34,
      "outputs": [
        {
          "output_type": "stream",
          "name": "stdout",
          "text": [
            "digite o numero de maças:5\n",
            "as maças deu: 2.5\n"
          ]
        }
      ]
    },
    {
      "cell_type": "code",
      "source": [
        "dia = float(input('qual seu dia de nacimento: '))\n",
        "mes = float(input('qual seu mes de nacimento: '))\n",
        "\n",
        "\n",
        "if (dia == 21 and 19  ):\n",
        " print('sul')\n",
        "elif (mes == 2):\n",
        " print('norte')\n",
        "elif (origem == 3):\n",
        "  print('leste')\n",
        "elif (origem == 4):\n",
        "  print('oeste')\n",
        "elif (origem == 5 and origem == 6):\n",
        "  print('nordeste')\n",
        "elif (origem == 7 and origem == 8 and origem == 9):\n",
        "  print('sudoeste')\n",
        "elif(origem == 10):\n",
        "  print('centro-oeste')\n",
        "elif (origem == 11):\n",
        "  print('noroeste')"
      ],
      "metadata": {
        "id": "LrKJBlYyGpC3"
      },
      "execution_count": null,
      "outputs": []
    }
  ]
}